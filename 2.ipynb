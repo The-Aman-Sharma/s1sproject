{
  "nbformat": 4,
  "nbformat_minor": 0,
  "metadata": {
    "colab": {
      "provenance": []
    },
    "kernelspec": {
      "name": "python3",
      "display_name": "Python 3"
    },
    "language_info": {
      "name": "python"
    }
  },
  "cells": [
    {
      "cell_type": "code",
      "execution_count": null,
      "metadata": {
        "id": "TNCEE8Ozsuz1"
      },
      "outputs": [],
      "source": [
        "import numpy as np\n",
        "from keras.layers import Dense\n",
        "from keras.models import Sequential\n",
        "model=Sequential()\n",
        "model.add(Dense(units=2,activation='relu',input_dim=2))\n",
        "model.add(Dense(units=1,activation='sigmoid'))\n",
        "model.compile(loss='binary_crossentropy',optimizer='adam',metrics=['accuracy'])\n",
        "print(model.summary())\n",
        "print(model.get_weights())\n",
        "X=np.array([[0.,0.],[0.,1.],[1.,0.],[1.,1.]])\n",
        "Y=np.array([0.,1.,1.,0.])\n",
        "model.fit(X,Y,epochs=1000,batch_size=4)\n",
        "print(model.get_weights())\n",
        "print(model.predict(X,batch_size=4))"
      ]
    },
    {
      "cell_type": "code",
      "source": [
        "import numpy as np\n",
        "from numpy import loadtxt\n",
        "from keras.models import Sequential\n",
        "from keras.layers import Dense\n",
        "# Load the data\n",
        "data = np.loadtxt(r'C:\\Users\\mansu\\OneDrive\\Documents\\prac3\\diabetes.csv', delimiter=',',\n",
        "skiprows=1)\n",
        "X = data[:, 0:8]\n",
        "Y = data[:, 8]\n",
        "# Create the model\n",
        "model = Sequential()\n",
        "model.add(Dense(12, input_dim=8, activation='relu'))\n",
        "model.add(Dense(8, activation='relu'))\n",
        "model.add(Dense(1, activation='sigmoid'))\n",
        "# Compile the model\n",
        "model.compile(loss='binary_crossentropy', optimizer='adam', metrics=['accuracy'])\n",
        "# Train the model\n",
        "model.fit(X, Y, epochs=150, batch_size=10)\n",
        "# Evaluate the model\n",
        "accuracy = model.evaluate(X, Y)\n",
        "\n",
        "\n",
        "print('Accuracy of model is:', accuracy * 100)\n",
        "# Make predictions\n",
        "predictions = model.predict(X)\n",
        "predicted_classes = np.round(predictions) # Round to get the predicted classes\n",
        "exec(\"for i in range(5):print(X[i].tolist(),predictions[i],Y[i])\")"
      ],
      "metadata": {
        "id": "oogAifImtPu7"
      },
      "execution_count": null,
      "outputs": []
    }
  ]
}